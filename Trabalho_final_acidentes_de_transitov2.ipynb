{
  "nbformat": 4,
  "nbformat_minor": 0,
  "metadata": {
    "colab": {
      "name": "Trabalho-final-acidentes-de-transitov2.ipynb",
      "provenance": [],
      "collapsed_sections": [
        "4ehnZBxaOTN3",
        "9ZcObhaiOeo5",
        "MMZsKnu5kfWX"
      ],
      "mount_file_id": "1bspK49SGjD6buqFUGVtTfo6UAyUFy7PE",
      "authorship_tag": "ABX9TyMSU15CyyhABoLtBAa7fcfH",
      "include_colab_link": true
    },
    "kernelspec": {
      "name": "python3",
      "display_name": "Python 3"
    }
  },
  "cells": [
    {
      "cell_type": "markdown",
      "metadata": {
        "id": "view-in-github",
        "colab_type": "text"
      },
      "source": [
        "<a href=\"https://colab.research.google.com/github/leonhardc/dataScienceTrabalhoFinal-Colab/blob/master/Trabalho_final_acidentes_de_transitov2.ipynb\" target=\"_parent\"><img src=\"https://colab.research.google.com/assets/colab-badge.svg\" alt=\"Open In Colab\"/></a>"
      ]
    },
    {
      "cell_type": "markdown",
      "metadata": {
        "id": "4ehnZBxaOTN3"
      },
      "source": [
        "##### Importações"
      ]
    },
    {
      "cell_type": "code",
      "metadata": {
        "id": "qw8sALFGNFci"
      },
      "source": [
        "import pandas as pd \n",
        "import numpy as np\n",
        "from google.colab import drive "
      ],
      "execution_count": null,
      "outputs": []
    },
    {
      "cell_type": "markdown",
      "metadata": {
        "id": "9ZcObhaiOeo5"
      },
      "source": [
        "##### Montar o Google drive"
      ]
    },
    {
      "cell_type": "code",
      "metadata": {
        "id": "qCxy9WXSN_lH"
      },
      "source": [
        "drive.mount('/content/drive', force_remount=True)"
      ],
      "execution_count": null,
      "outputs": []
    },
    {
      "cell_type": "markdown",
      "metadata": {
        "id": "sIQE_bp2OmWc"
      },
      "source": [
        "##### Importar csv como dataframe"
      ]
    },
    {
      "cell_type": "code",
      "metadata": {
        "id": "x1Zj-qIHOts9"
      },
      "source": [
        "df2017 = pd.read_csv('/content/drive/My Drive/DataScienceDataSet/_originais/acidentes2017_todas_causas_tipos.csv', sep=';')\n"
      ],
      "execution_count": null,
      "outputs": []
    },
    {
      "cell_type": "code",
      "metadata": {
        "id": "RT2CaYRq0-IT",
        "outputId": "0e37d75e-4d2c-4071-acc8-04dc9a69cf07",
        "colab": {
          "base_uri": "https://localhost:8080/",
          "height": 71
        }
      },
      "source": [
        "df2018 = pd.read_csv('/content/drive/My Drive/DataScienceDataSet/_originais/acidentes2018_todas_causas_tipos.csv', sep=';')\n"
      ],
      "execution_count": null,
      "outputs": [
        {
          "output_type": "stream",
          "text": [
            "/usr/local/lib/python3.6/dist-packages/IPython/core/interactiveshell.py:2718: DtypeWarning: Columns (0) have mixed types.Specify dtype option on import or set low_memory=False.\n",
            "  interactivity=interactivity, compiler=compiler, result=result)\n"
          ],
          "name": "stderr"
        }
      ]
    },
    {
      "cell_type": "code",
      "metadata": {
        "id": "20ymiEU00-nT",
        "outputId": "b07fd46d-97f2-41af-f60c-35fac078e044",
        "colab": {
          "base_uri": "https://localhost:8080/",
          "height": 71
        }
      },
      "source": [
        "df2019 = pd.read_csv('/content/drive/My Drive/DataScienceDataSet/_originais/acidentes2019_todas_causas_tipos.csv', sep=';')"
      ],
      "execution_count": null,
      "outputs": [
        {
          "output_type": "stream",
          "text": [
            "/usr/local/lib/python3.6/dist-packages/IPython/core/interactiveshell.py:2718: DtypeWarning: Columns (0) have mixed types.Specify dtype option on import or set low_memory=False.\n",
            "  interactivity=interactivity, compiler=compiler, result=result)\n"
          ],
          "name": "stderr"
        }
      ]
    },
    {
      "cell_type": "code",
      "metadata": {
        "id": "YZnVjk5R0--Q"
      },
      "source": [
        "df2020 = pd.read_csv('/content/drive/My Drive/DataScienceDataSet/_originais/acidentes2020_todas_causas_tipos.csv', sep=';')"
      ],
      "execution_count": null,
      "outputs": []
    },
    {
      "cell_type": "markdown",
      "metadata": {
        "id": "MMZsKnu5kfWX"
      },
      "source": [
        "##### Informações"
      ]
    },
    {
      "cell_type": "code",
      "metadata": {
        "id": "-Z4UkpZtkABU",
        "outputId": "ac8b5ee5-1e9b-4fe5-ee62-1fda0585854a",
        "colab": {
          "base_uri": "https://localhost:8080/",
          "height": 765
        }
      },
      "source": [
        "df2017.info()"
      ],
      "execution_count": null,
      "outputs": [
        {
          "output_type": "stream",
          "text": [
            "<class 'pandas.core.frame.DataFrame'>\n",
            "RangeIndex: 349067 entries, 0 to 349066\n",
            "Data columns (total 37 columns):\n",
            " #   Column                  Non-Null Count   Dtype  \n",
            "---  ------                  --------------   -----  \n",
            " 0   id                      349067 non-null  int64  \n",
            " 1   pesid                   319292 non-null  float64\n",
            " 2   data_inversa            349067 non-null  object \n",
            " 3   dia_semana              349067 non-null  object \n",
            " 4   horario                 349067 non-null  object \n",
            " 5   uf                      349067 non-null  object \n",
            " 6   br                      348546 non-null  float64\n",
            " 7   km                      348546 non-null  object \n",
            " 8   municipio               349067 non-null  object \n",
            " 9   causa_principal         349067 non-null  object \n",
            " 10  causa_acidente          349067 non-null  object \n",
            " 11  ordem_tipo_acidente     349067 non-null  int64  \n",
            " 12  tipo_acidente           349067 non-null  object \n",
            " 13  classificacao_acidente  349067 non-null  object \n",
            " 14  fase_dia                349067 non-null  object \n",
            " 15  sentido_via             349067 non-null  object \n",
            " 16  condicao_metereologica  349067 non-null  object \n",
            " 17  tipo_pista              349067 non-null  object \n",
            " 18  tracado_via             349067 non-null  object \n",
            " 19  uso_solo                349067 non-null  object \n",
            " 20  id_veiculo              349062 non-null  float64\n",
            " 21  tipo_veiculo            349067 non-null  object \n",
            " 22  marca                   336224 non-null  object \n",
            " 23  ano_fabricacao_veiculo  334697 non-null  float64\n",
            " 24  tipo_envolvido          349067 non-null  object \n",
            " 25  estado_fisico           349067 non-null  object \n",
            " 26  idade                   286177 non-null  float64\n",
            " 27  sexo                    349067 non-null  object \n",
            " 28  ilesos                  349067 non-null  int64  \n",
            " 29  feridos_leves           349067 non-null  int64  \n",
            " 30  feridos_graves          349067 non-null  int64  \n",
            " 31  mortos                  349067 non-null  int64  \n",
            " 32  latitude                349067 non-null  object \n",
            " 33  longitude               349067 non-null  object \n",
            " 34  regional                349067 non-null  object \n",
            " 35  delegacia               349067 non-null  object \n",
            " 36  uop                     332235 non-null  object \n",
            "dtypes: float64(5), int64(6), object(26)\n",
            "memory usage: 98.5+ MB\n"
          ],
          "name": "stdout"
        }
      ]
    },
    {
      "cell_type": "code",
      "metadata": {
        "id": "aYcDpqwVkD_E",
        "outputId": "b7250d4e-39c3-4ca8-930f-701e731449e1",
        "colab": {
          "base_uri": "https://localhost:8080/",
          "height": 765
        }
      },
      "source": [
        "df2018.info()"
      ],
      "execution_count": null,
      "outputs": [
        {
          "output_type": "stream",
          "text": [
            "<class 'pandas.core.frame.DataFrame'>\n",
            "RangeIndex: 324809 entries, 0 to 324808\n",
            "Data columns (total 37 columns):\n",
            " #   Column                  Non-Null Count   Dtype  \n",
            "---  ------                  --------------   -----  \n",
            " 0   id                      324809 non-null  object \n",
            " 1   pesid                   299277 non-null  float64\n",
            " 2   data_inversa            324809 non-null  object \n",
            " 3   dia_semana              324809 non-null  object \n",
            " 4   horario                 324809 non-null  object \n",
            " 5   uf                      324809 non-null  object \n",
            " 6   br                      324257 non-null  float64\n",
            " 7   km                      324257 non-null  object \n",
            " 8   municipio               324809 non-null  object \n",
            " 9   causa_principal         324809 non-null  object \n",
            " 10  causa_acidente          324809 non-null  object \n",
            " 11  ordem_tipo_acidente     324754 non-null  float64\n",
            " 12  tipo_acidente           324754 non-null  object \n",
            " 13  classificacao_acidente  324809 non-null  object \n",
            " 14  fase_dia                324809 non-null  object \n",
            " 15  sentido_via             324809 non-null  object \n",
            " 16  condicao_metereologica  324809 non-null  object \n",
            " 17  tipo_pista              324809 non-null  object \n",
            " 18  tracado_via             324809 non-null  object \n",
            " 19  uso_solo                324809 non-null  object \n",
            " 20  id_veiculo              324809 non-null  int64  \n",
            " 21  tipo_veiculo            324809 non-null  object \n",
            " 22  marca                   311669 non-null  object \n",
            " 23  ano_fabricacao_veiculo  309128 non-null  float64\n",
            " 24  tipo_envolvido          324809 non-null  object \n",
            " 25  estado_fisico           324809 non-null  object \n",
            " 26  idade                   263305 non-null  float64\n",
            " 27  sexo                    324809 non-null  object \n",
            " 28  ilesos                  324809 non-null  int64  \n",
            " 29  feridos_leves           324809 non-null  int64  \n",
            " 30  feridos_graves          324809 non-null  int64  \n",
            " 31  mortos                  324809 non-null  int64  \n",
            " 32  latitude                324809 non-null  object \n",
            " 33  longitude               324809 non-null  object \n",
            " 34  regional                324809 non-null  object \n",
            " 35  delegacia               324809 non-null  object \n",
            " 36  uop                     308467 non-null  object \n",
            "dtypes: float64(5), int64(5), object(27)\n",
            "memory usage: 91.7+ MB\n"
          ],
          "name": "stdout"
        }
      ]
    },
    {
      "cell_type": "code",
      "metadata": {
        "id": "Miiu8OJEkEp0",
        "outputId": "31fb6ebc-c00e-421e-ea3e-4a405ae3d965",
        "colab": {
          "base_uri": "https://localhost:8080/",
          "height": 765
        }
      },
      "source": [
        "df2019.info()"
      ],
      "execution_count": null,
      "outputs": [
        {
          "output_type": "stream",
          "text": [
            "<class 'pandas.core.frame.DataFrame'>\n",
            "RangeIndex: 331666 entries, 0 to 331665\n",
            "Data columns (total 37 columns):\n",
            " #   Column                  Non-Null Count   Dtype  \n",
            "---  ------                  --------------   -----  \n",
            " 0   id                      331666 non-null  object \n",
            " 1   pesid                   307223 non-null  float64\n",
            " 2   data_inversa            331666 non-null  object \n",
            " 3   dia_semana              331666 non-null  object \n",
            " 4   horario                 331666 non-null  object \n",
            " 5   uf                      331666 non-null  object \n",
            " 6   br                      331291 non-null  float64\n",
            " 7   km                      331291 non-null  object \n",
            " 8   municipio               331666 non-null  object \n",
            " 9   causa_principal         331666 non-null  object \n",
            " 10  causa_acidente          331666 non-null  object \n",
            " 11  ordem_tipo_acidente     331626 non-null  float64\n",
            " 12  tipo_acidente           331626 non-null  object \n",
            " 13  classificacao_acidente  331666 non-null  object \n",
            " 14  fase_dia                331666 non-null  object \n",
            " 15  sentido_via             331666 non-null  object \n",
            " 16  condicao_metereologica  331666 non-null  object \n",
            " 17  tipo_pista              331666 non-null  object \n",
            " 18  tracado_via             331666 non-null  object \n",
            " 19  uso_solo                331666 non-null  object \n",
            " 20  id_veiculo              331666 non-null  int64  \n",
            " 21  tipo_veiculo            331666 non-null  object \n",
            " 22  marca                   317602 non-null  object \n",
            " 23  ano_fabricacao_veiculo  314393 non-null  float64\n",
            " 24  tipo_envolvido          331666 non-null  object \n",
            " 25  estado_fisico           331666 non-null  object \n",
            " 26  idade                   269798 non-null  float64\n",
            " 27  sexo                    331666 non-null  object \n",
            " 28  ilesos                  331666 non-null  int64  \n",
            " 29  feridos_leves           331666 non-null  int64  \n",
            " 30  feridos_graves          331666 non-null  int64  \n",
            " 31  mortos                  331666 non-null  int64  \n",
            " 32  latitude                331666 non-null  object \n",
            " 33  longitude               331666 non-null  object \n",
            " 34  regional                331666 non-null  object \n",
            " 35  delegacia               331666 non-null  object \n",
            " 36  uop                     314468 non-null  object \n",
            "dtypes: float64(5), int64(5), object(27)\n",
            "memory usage: 93.6+ MB\n"
          ],
          "name": "stdout"
        }
      ]
    },
    {
      "cell_type": "code",
      "metadata": {
        "id": "uL1bG51GkFaB",
        "outputId": "0a018adc-79a1-4c02-a7d7-09c918ea824f",
        "colab": {
          "base_uri": "https://localhost:8080/",
          "height": 765
        }
      },
      "source": [
        "df2020.info()"
      ],
      "execution_count": null,
      "outputs": [
        {
          "output_type": "stream",
          "text": [
            "<class 'pandas.core.frame.DataFrame'>\n",
            "RangeIndex: 170791 entries, 0 to 170790\n",
            "Data columns (total 37 columns):\n",
            " #   Column                  Non-Null Count   Dtype  \n",
            "---  ------                  --------------   -----  \n",
            " 0   id                      170791 non-null  int64  \n",
            " 1   pesid                   156534 non-null  float64\n",
            " 2   data_inversa            170791 non-null  object \n",
            " 3   dia_semana              170791 non-null  object \n",
            " 4   horario                 170791 non-null  object \n",
            " 5   uf                      170791 non-null  object \n",
            " 6   br                      170333 non-null  float64\n",
            " 7   km                      170333 non-null  object \n",
            " 8   municipio               170791 non-null  object \n",
            " 9   causa_principal         170791 non-null  object \n",
            " 10  causa_acidente          170791 non-null  object \n",
            " 11  ordem_tipo_acidente     170791 non-null  int64  \n",
            " 12  tipo_acidente           170791 non-null  object \n",
            " 13  classificacao_acidente  170791 non-null  object \n",
            " 14  fase_dia                170791 non-null  object \n",
            " 15  sentido_via             170791 non-null  object \n",
            " 16  condicao_metereologica  170791 non-null  object \n",
            " 17  tipo_pista              170791 non-null  object \n",
            " 18  tracado_via             170791 non-null  object \n",
            " 19  uso_solo                170791 non-null  object \n",
            " 20  id_veiculo              170791 non-null  int64  \n",
            " 21  tipo_veiculo            170791 non-null  object \n",
            " 22  marca                   163076 non-null  object \n",
            " 23  ano_fabricacao_veiculo  161261 non-null  float64\n",
            " 24  tipo_envolvido          170791 non-null  object \n",
            " 25  estado_fisico           170791 non-null  object \n",
            " 26  idade                   137061 non-null  float64\n",
            " 27  sexo                    170791 non-null  object \n",
            " 28  ilesos                  170791 non-null  int64  \n",
            " 29  feridos_leves           170791 non-null  int64  \n",
            " 30  feridos_graves          170791 non-null  int64  \n",
            " 31  mortos                  170791 non-null  int64  \n",
            " 32  latitude                170791 non-null  object \n",
            " 33  longitude               170791 non-null  object \n",
            " 34  regional                170791 non-null  object \n",
            " 35  delegacia               170791 non-null  object \n",
            " 36  uop                     168156 non-null  object \n",
            "dtypes: float64(4), int64(7), object(26)\n",
            "memory usage: 48.2+ MB\n"
          ],
          "name": "stdout"
        }
      ]
    },
    {
      "cell_type": "markdown",
      "metadata": {
        "id": "_6f393c1zDFI"
      },
      "source": [
        "#### Aplicando filtros "
      ]
    },
    {
      "cell_type": "code",
      "metadata": {
        "id": "lfuNzeiZkwn0"
      },
      "source": [
        "# Nesse passo, basicamente, estou removendo todas as linhas com, pelo menos um valor faltante em todos os dataframes\n",
        "\n",
        "df2017.dropna(inplace=True) \n",
        "df2018.dropna(inplace=True)\n",
        "df2019.dropna(inplace=True)\n",
        "df2020.dropna(inplace=True)\n",
        "\n",
        "# Logo após, exibirmos as informações dos dataframes para observar se alguma mudança foi feita\n",
        "\n",
        "print(\"DataFrame2017: \" + str(df2017.shape)) # exibe quantidade de linhas e colunas do dataframe\n",
        "print(\"DataFrame2018: \" + str(df2018.shape))\n",
        "print(\"DataFrame2019: \" + str(df2019.shape))\n",
        "print(\"DataFrame2020: \" + str(df2020.shape))"
      ],
      "execution_count": null,
      "outputs": []
    },
    {
      "cell_type": "code",
      "metadata": {
        "id": "ayhNspVbzKkm"
      },
      "source": [
        "# Atributos que se deseja excluir\n",
        "atrib = ['feridos_leves','ilesos','latitude', 'longitude', 'pesid', 'horario', 'br', 'km', 'causa_principal', 'causa_acidente', 'ordem_tipo_acidente', 'fase_dia', 'sentido_via', 'condicao_metereologica', 'tipo_pista', 'tracado_via','uso_solo', 'id_veiculo', 'tipo_veiculo', 'marca', 'ano_fabricacao_veiculo', 'regional', 'delegacia', 'uop']\n",
        "\n",
        "for a in atrib:\n",
        "  df2017 = df2017.drop(a, axis = 1)\n",
        "  df2018 = df2018.drop(a, axis = 1)\n",
        "  df2019 = df2019.drop(a, axis = 1)\n",
        "  df2020 = df2020.drop(a, axis = 1)\n",
        "\n",
        "print(\"DataFrame2017: \" + str(df2017.shape)) # exibe quantidade de linhas e colunas do dataframe\n",
        "print(\"DataFrame2018: \" + str(df2018.shape))\n",
        "print(\"DataFrame2019: \" + str(df2019.shape))\n",
        "print(\"DataFrame2020: \" + str(df2020.shape))\n"
      ],
      "execution_count": null,
      "outputs": []
    },
    {
      "cell_type": "code",
      "metadata": {
        "id": "ASDDcFamtKMW"
      },
      "source": [
        "# Primeiramente, vamos verificar e excluir quaisquer linhas duplicadas\n",
        "\n",
        "df2017.drop_duplicates()\n",
        "df2018.drop_duplicates()\n",
        "df2019.drop_duplicates()\n",
        "df2020.drop_duplicates()\n",
        "\n",
        "print(\"DataFrame2017: \" + str(df2017.shape)) # exibe quantidade de linhas e colunas do dataframe\n",
        "print(\"DataFrame2018: \" + str(df2018.shape))\n",
        "print(\"DataFrame2019: \" + str(df2019.shape))\n",
        "print(\"DataFrame2020: \" + str(df2020.shape))\n"
      ],
      "execution_count": null,
      "outputs": []
    },
    {
      "cell_type": "markdown",
      "metadata": {
        "id": "dAAGkyMnmB7U"
      },
      "source": [
        "##### Aplicar filtros, referentes a seleção do estado do Ceará"
      ]
    },
    {
      "cell_type": "code",
      "metadata": {
        "id": "ZzPL5M5DmSLm"
      },
      "source": [
        "# filtro de uf, somente para o ceará\n",
        "newindex = list(range(0, len(df2017)))\n",
        "df2017.index = newindex\n",
        "\n",
        "dftemp = pd.DataFrame(columns=df2017.columns, index = df2017.index)\n",
        "\n",
        "for a in df2017.index:\n",
        "  if df2017['uf'][a] == 'CE':\n",
        "   pd.DataFrame(np.insert(dftemp.values, a, df2017.values[a], axis=0)) #Cria espaço \n",
        "   dftemp.values[a] = df2017.values[a]\n",
        "   print(dftemp.values[a])\n",
        "   ind = ind + 1\n",
        "\n",
        "# tratamento de espaços vazios\n",
        "dftemp.dropna(inplace=True) #Apagando todas as linhas com espaços vazios\n",
        "newindex = list(range(0, len(dftemp)))\n",
        "dftemp.index = newindex #Recolocando os indices do dataframe\n",
        "\n",
        "\n",
        "df2017 = dftemp\n",
        "print(\"DataFrame2017: \" + str(df2017.shape))"
      ],
      "execution_count": null,
      "outputs": []
    },
    {
      "cell_type": "code",
      "metadata": {
        "id": "KMXWxRIWp8MZ"
      },
      "source": [
        "newindex = list(range(0, len(df2018)))\n",
        "df2018.index = newindex\n",
        "\n",
        "dftemp = pd.DataFrame(columns=df2018.columns, index = df2018.index)\n",
        "\n",
        "for a in df2018.index:\n",
        "  if df2017['uf'][a] == 'CE':\n",
        "   pd.DataFrame(np.insert(dftemp.values, a, df2018.values[a], axis=0)) #Cria espaço \n",
        "   dftemp.values[a] = df2018.values[a]\n",
        "   print(dftemp.values[a])\n",
        "\n",
        "# tratamento de espaços vazios\n",
        "dftemp.dropna(inplace=True) #Apagando todas as linhas com espaços vazios\n",
        "newindex = list(range(0, len(dftemp)))\n",
        "dftemp.index = newindex #Recolocando os indices do dataframe\n",
        "\n",
        "\n",
        "df2018 = dftemp\n",
        "print(\"DataFrame2018: \" + str(df2018.shape))"
      ],
      "execution_count": null,
      "outputs": []
    },
    {
      "cell_type": "code",
      "metadata": {
        "id": "qY8Qc9CcqCHc"
      },
      "source": [
        "newindex = list(range(0, len(df2019)))\n",
        "df2019.index = newindex\n",
        "\n",
        "dftemp = pd.DataFrame(columns=df2019.columns, index = df2019.index)\n",
        "\n",
        "for a in df2019.index:\n",
        "  if df2019['uf'][a] == 'CE':\n",
        "   pd.DataFrame(np.insert(dftemp.values, a, df2019.values[a], axis=0)) #Cria espaço \n",
        "   dftemp.values[a] = df2019.values[a]\n",
        "   print(dftemp.values[a])\n",
        "\n",
        "# tratamento de espaços vazios\n",
        "dftemp.dropna(inplace=True) #Apagando todas as linhas com espaços vazios\n",
        "newindex = list(range(0, len(dftemp)))\n",
        "dftemp.index = newindex #Recolocando os indices do dataframe\n",
        "\n",
        "\n",
        "df2019 = dftemp\n",
        "print(\"DataFrame2019: \" + str(df2019.shape))"
      ],
      "execution_count": null,
      "outputs": []
    },
    {
      "cell_type": "code",
      "metadata": {
        "id": "hRVFzq07qHMm"
      },
      "source": [
        "newindex = list(range(0, len(df2020)))\n",
        "df2020.index = newindex\n",
        "\n",
        "dftemp = pd.DataFrame(columns=df2020.columns, index = df2020.index)\n",
        "\n",
        "for a in df2020.index:\n",
        "  if df2020['uf'][a] == 'CE':\n",
        "   pd.DataFrame(np.insert(dftemp.values, a, df2020.values[a], axis=0)) #Cria espaço \n",
        "   dftemp.values[a] = df2020.values[a]\n",
        "   print(dftemp.values[a])\n",
        "\n",
        "# tratamento de espaços vazios\n",
        "dftemp.dropna(inplace=True) #Apagando todas as linhas com espaços vazios\n",
        "newindex = list(range(0, len(dftemp)))\n",
        "dftemp.index = newindex #Recolocando os indices do dataframe\n",
        "\n",
        "\n",
        "df2020 = dftemp\n",
        "print(\"DataFrame2020: \" + str(df2020.shape))"
      ],
      "execution_count": null,
      "outputs": []
    },
    {
      "cell_type": "markdown",
      "metadata": {
        "id": "XomTgBSp2zsJ"
      },
      "source": [
        "#### Concatenar dataframes"
      ]
    },
    {
      "cell_type": "code",
      "metadata": {
        "id": "pkA6F3Hc2w96"
      },
      "source": [
        "fullDataFrame = pd.concat([df2017, df2018], ignore_index=True)\n",
        "fullDataFrame = pd.concat([fullDataFrame, df2019], ignore_index=True)\n",
        "fullDataFrame = pd.concat([fullDataFrame, df2020], ignore_index=True)"
      ],
      "execution_count": null,
      "outputs": []
    },
    {
      "cell_type": "markdown",
      "metadata": {
        "id": "6vsMhW_92KnZ"
      },
      "source": [
        "##### Salvar dados"
      ]
    },
    {
      "cell_type": "code",
      "metadata": {
        "id": "bVhhEiua2P3V"
      },
      "source": [
        "fullDataFrame.to_csv('/content/drive/My Drive/DataScienceDataSet/_modificados/acidentes2017a2020.csv')"
      ],
      "execution_count": null,
      "outputs": []
    }
  ]
}