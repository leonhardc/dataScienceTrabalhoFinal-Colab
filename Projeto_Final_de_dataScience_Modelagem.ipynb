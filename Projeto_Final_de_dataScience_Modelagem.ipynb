{
  "nbformat": 4,
  "nbformat_minor": 0,
  "metadata": {
    "colab": {
      "name": "Projeto Final de dataScience - Modelagem.ipynb",
      "provenance": [],
      "authorship_tag": "ABX9TyMsgVjlwSDCNE651y1vPIMA",
      "include_colab_link": true
    },
    "kernelspec": {
      "name": "python3",
      "display_name": "Python 3"
    }
  },
  "cells": [
    {
      "cell_type": "markdown",
      "metadata": {
        "id": "view-in-github",
        "colab_type": "text"
      },
      "source": [
        "<a href=\"https://colab.research.google.com/github/leonhardc/dataScienceTrabalhoFinal-Colab/blob/master/Projeto_Final_de_dataScience_Modelagem.ipynb\" target=\"_parent\"><img src=\"https://colab.research.google.com/assets/colab-badge.svg\" alt=\"Open In Colab\"/></a>"
      ]
    },
    {
      "cell_type": "markdown",
      "metadata": {
        "id": "ctsX6YxYXt6o"
      },
      "source": [
        "Colab destinado a segunda parte do projeto final da disciplina de data science - modelagem\n"
      ]
    },
    {
      "cell_type": "code",
      "metadata": {
        "id": "RRvH0W-SXtI5"
      },
      "source": [
        ""
      ],
      "execution_count": null,
      "outputs": []
    }
  ]
}